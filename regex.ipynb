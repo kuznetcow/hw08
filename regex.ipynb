{
 "cells": [
  {
   "cell_type": "markdown",
   "metadata": {},
   "source": [
    "**Задание 1.** Напишите функцию, которая принимает на вход строку и проверяет является ли она валидным транспортным номером. Если да, то функция должна возвращать отдельно номер и регион."
   ]
  },
  {
   "cell_type": "code",
   "execution_count": 38,
   "metadata": {},
   "outputs": [
    {
     "data": {
      "text/plain": [
       "['А123АА', '123']"
      ]
     },
     "execution_count": 38,
     "metadata": {},
     "output_type": "execute_result"
    }
   ],
   "source": [
    "import re\n",
    "\n",
    "regex_license_plate = '[АВЕКМНОРСТУХ]{1}[0-9]{3}[АВЕКМНОРСТУХ]{2}[0-9]{2}'\n",
    "\n",
    "def func_license_plate(license_plate):\n",
    "    num_reg = []\n",
    "    if len(license_plate) >= 8 and len(license_plate) <=9: \n",
    "        if re.match(regex_license_plate, license_plate):\n",
    "            num_reg.append(license_plate[0:6])\n",
    "            num_reg.append(license_plate[6:])\n",
    "        else:\n",
    "            print('invalid format')\n",
    "    else: \n",
    "        print('invalid format')\n",
    "    return num_reg\n",
    "        \n",
    "func_license_plate('А123АА123')"
   ]
  },
  {
   "cell_type": "markdown",
   "metadata": {},
   "source": [
    "**Задание 2**. Напишите функцию, которая проверяет e-mail адрес на валидность по стандарту RFC822: http://www.w3.org/Protocols/rfc822/. Для этого постарайтесь написать (в крайнем случае найти) самый полный шаблон для проверки e-mail адресов через регулярное выражение. Разберитесь и напишите примеры, какие ваш шаблон может не охватить."
   ]
  },
  {
   "cell_type": "code",
   "execution_count": 39,
   "metadata": {},
   "outputs": [
    {
     "name": "stdout",
     "output_type": "stream",
     "text": [
      "email is valid\n"
     ]
    }
   ],
   "source": [
    "regex_email = r'(?:[a-z0-9!#$%&*+/=?^_{|}~-]+(?:\\.[a-z0-9!#$%&*+/=?^_`{|}~-]+)*|\"(?:[\\x01-\\x08\\x0b\\x0c\\x0e-\\x1f\\x21\\x23-\\x5b\\x5d-\\x7f]|\\\\[\\x01-\\x09\\x0b\\x0c\\x0e-\\x7f])*\")@(?:(?:[a-z0-9](?:[a-z0-9-]*[a-z0-9])?\\.)+[a-z0-9](?:[a-z0-9-]*[a-z0-9])?|\\[(?:(?:25[0-5]2[0-4][0-9]|[01]?[0-9][0-9]?)\\.){3}(?:25[0-5]|2[0-4][0-9]|[01]?[0-9][0-9]?|[a-z0-9-]*[a-z0-9]:(?:[\\x01-\\x08\\x0b\\x0c\\x0e-\\x1f\\x21-\\x5a\\x53-\\x7f]|\\\\[\\x01-\\x09\\x0b\\x0c\\x0e-\\x7f])+)\\])'\n",
    "    \n",
    "def func_email(email):\n",
    "    num_reg = []\n",
    "\n",
    "    if re.match(regex_email, email):\n",
    "        print('email is valid')\n",
    "    else:\n",
    "        print('invalid format')\n",
    "\n",
    "#полностью в коде не разобрался (нашёл в интернете), но например, такой email он считает валидным       \n",
    "func_email('#@mail.com')\n",
    "    "
   ]
  },
  {
   "cell_type": "markdown",
   "metadata": {},
   "source": [
    "**Задание 3.** Напишите функцию, которая будет удалять все последовательные повторы слов из заданной строки при помощи регулярных выражений."
   ]
  },
  {
   "cell_type": "code",
   "execution_count": 42,
   "metadata": {},
   "outputs": [
    {
     "data": {
      "text/plain": [
       "'формальный язык поиска и осуществления манипуляций с подстроками в тексте основанный на использовании метасимволов'"
      ]
     },
     "execution_count": 42,
     "metadata": {},
     "output_type": "execute_result"
    }
   ],
   "source": [
    "text = 'формальный язык поиска поиска и осуществления манипуляций манипуляций с\\\n",
    " подстроками в тексте тексте основанный на использовании метасимволов'\n",
    "\n",
    "def repeats(words):\n",
    "    replace = re.sub(r'(\\w+)\\s+\\1', r'\\1', text)\n",
    "    return replace\n",
    "\n",
    "repeats(text)"
   ]
  },
  {
   "cell_type": "markdown",
   "metadata": {},
   "source": [
    "**Задание 4**. Напишите функцию, которая будет проверять номер сотового телефона на валидность, если он валиден, то переводить его в формат:   \n",
    "+7(xxx)-xxx-xx-xx  \n",
    "Постарайтесь предусмотреть как можно больше адекватных форматов изначального ввода номера.\n",
    "Примеры валидных форматов:\n",
    "- +7 955 555-55-55;\n",
    "- 9555555555;\n",
    "- 8(955)555-55-55;\n",
    "- +7 955 555 55 55;\n",
    "- 7(955) 555-55-55;\n",
    "- +7 955+555+55+55."
   ]
  },
  {
   "cell_type": "code",
   "execution_count": 43,
   "metadata": {},
   "outputs": [
    {
     "data": {
      "text/plain": [
       "'+7(955)555-55-55'"
      ]
     },
     "execution_count": 43,
     "metadata": {},
     "output_type": "execute_result"
    }
   ],
   "source": [
    "def mobile_phone (phone):\n",
    "    digits = re.sub('\\D+', '', phone)\n",
    "    regexp_plus7 = '[+7]{2}'\n",
    "    regexp_7_8 = '[7|8]'\n",
    "    regexp_9 = '[9]'\n",
    "    if re.match(regexp_plus7, phone) and len(digits) == 11:\n",
    "        final_phone = '+7(9' + digits[2:4] + ')' + digits[4:7] + '-' + digits[7:9] + '-' + digits[9:11]\n",
    "        return final_phone\n",
    "    elif re.match(regexp_7_8, phone) and len(digits) == 11:\n",
    "        final_phone = '+7(9' + digits[2:4] + ')' + digits[4:7] + '-' + digits[7:9] + '-' + digits[9:11]\n",
    "        return final_phone\n",
    "    elif re.match(regexp_9, phone) and len(digits) == 10:\n",
    "        final_phone = '+7(9' + digits[1:3] + ')' + digits[3:6] + '-' + digits[6:8] + '-' + digits[8:10]\n",
    "        return final_phone\n",
    "    else:\n",
    "        print('Номер указан некорректно')\n",
    "\n",
    "mobile_phone('8 955-555  5555')"
   ]
  },
  {
   "cell_type": "code",
   "execution_count": null,
   "metadata": {},
   "outputs": [],
   "source": []
  }
 ],
 "metadata": {
  "kernelspec": {
   "display_name": "Python 3",
   "language": "python",
   "name": "python3"
  },
  "language_info": {
   "codemirror_mode": {
    "name": "ipython",
    "version": 3
   },
   "file_extension": ".py",
   "mimetype": "text/x-python",
   "name": "python",
   "nbconvert_exporter": "python",
   "pygments_lexer": "ipython3",
   "version": "3.7.6"
  }
 },
 "nbformat": 4,
 "nbformat_minor": 2
}
